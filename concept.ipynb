{
 "cells": [
  {
  {
   "cell_type": "code",
   "execution_count": 13,
   "metadata": {},
   "outputs": [
    {
     "name": "stdout",
     "output_type": "stream",
     "text": [
      "Please input the right value\n"
     ]
    },
    {
     "name": "stderr",
     "output_type": "stream",
     "text": [
      "Exception in Tkinter callback\n",
      "Traceback (most recent call last):\n",
      "  File \"C:\\Users\\dell\\Anaconda3\\lib\\tkinter\\__init__.py\", line 1705, in __call__\n",
      "    return self.func(*args)\n",
      "  File \"<ipython-input-13-d4775b46230b>\", line 51, in submit\n",
      "    while temp > -1:\n",
      "UnboundLocalError: local variable 'temp' referenced before assignment\n"
     ]
    }
   ],
   "source": [
    "import time\n",
    "from tkinter import *\n",
    "from tkinter import messagebox\n",
    "\n",
    "# creating Tk window\n",
    "root = Tk()\n",
    "\n",
    "# setting geometry of tk window\n",
    "root.geometry(\"300x250\")\n",
    "\n",
    "# Using title() to display a message in\n",
    "# the dialogue box of the message in the\n",
    "# title bar.\n",
    "root.title(\"Time Counter\")\n",
    "\n",
    "# Declaration of variables\n",
    "hour = StringVar()\n",
    "minute = StringVar()\n",
    "second = StringVar()\n",
    "\n",
    "# setting the default value as 0\n",
    "hour.set(\"00\")\n",
    "minute.set(\"00\")\n",
    "second.set(\"00\")\n",
    "\n",
    "# Use of Entry class to take input from the user\n",
    "hourEntry = Entry(root, width=3, font=(\"Arial\", 18, \"\"),\n",
    "                  textvariable=hour)\n",
    "hourEntry.place(x=80, y=20)\n",
    "\n",
    "minuteEntry = Entry(root, width=3, font=(\"Arial\", 18, \"\"),\n",
    "                    textvariable=minute)\n",
    "minuteEntry.place(x=130, y=20)\n",
    "\n",
    "secondEntry = Entry(root, width=3, font=(\"Arial\", 18, \"\"),\n",
    "                    textvariable=second)\n",
    "secondEntry.place(x=180, y=20)\n",
    "\n",
    "\n",
    "def submit():\n",
    "    try:\n",
    "        # the input provided by the user is\n",
    "        # stored in here :temp\n",
    "        temp = int(hour.get()) * 3600 + int(minute.get()) * 60 + int(second.get())\n",
    "    except:\n",
    "        print(\"Please input the right value\")\n",
    "        messagebox.showinfo(\"Time Countdown\", \"Please input the right value\")\n",
    "\n",
    "\n",
    "\n",
    "    while temp > -1:\n",
    "\n",
    "        # divmod(firstvalue = temp//60, secondvalue = temp%60)\n",
    "        mins, secs = divmod(temp, 60)\n",
    "\n",
    "        # Converting the input entered in mins or secs to hours,\n",
    "        # mins ,secs(input = 110 min --> 120*60 = 6600 => 1hr :\n",
    "        # 50min: 0sec)\n",
    "        hours = 0\n",
    "        if mins > 60:\n",
    "            # divmod(firstvalue = temp//60, secondvalue\n",
    "            # = temp%60)\n",
    "            hours, mins = divmod(mins, 60)\n",
    "\n",
    "        # using format () method to store the value up to\n",
    "        # two decimal places\n",
    "        hour.set(\"{0:2d}\".format(hours))\n",
    "        minute.set(\"{0:2d}\".format(mins))\n",
    "        second.set(\"{0:2d}\".format(secs))\n",
    "\n",
    "        # updating the GUI window after decrementing the\n",
    "        # temp value every time\n",
    "        root.update()\n",
    "        time.sleep(1)\n",
    "\n",
    "        # when temp value = 0; then a messagebox pop's up\n",
    "        # with a message:\"Time's up\"\n",
    "        if (temp == 0):\n",
    "            messagebox.showinfo(\"Time Countdown\", \"Time's up \")\n",
    "\n",
    "\n",
    "\n",
    "\n",
    "        # after every one sec the value of temp will be decremented\n",
    "        # by one\n",
    "        temp -= 1\n",
    "\n",
    "\n",
    "# button widget\n",
    "btn = Button(root, text='Set Time Countdown', bd='5',\n",
    "             command=submit)\n",
    "btn.place(x=70, y=120)\n",
    "\n",
    "# infinite loop which is required to\n",
    "# run tkinter program infinitely\n",
    "# until an interrupt occurs\n",
    "root.mainloop()\n"
   ]
  },
  {
   "cell_type": "code",
   "execution_count": 14,
   "metadata": {},
   "outputs": [
    {
     "ename": "SyntaxError",
     "evalue": "invalid syntax (<ipython-input-14-f188d5ac1197>, line 1)",
     "output_type": "error",
     "traceback": [
      "\u001b[1;36m  File \u001b[1;32m\"<ipython-input-14-f188d5ac1197>\"\u001b[1;36m, line \u001b[1;32m1\u001b[0m\n\u001b[1;33m    git init\u001b[0m\n\u001b[1;37m           ^\u001b[0m\n\u001b[1;31mSyntaxError\u001b[0m\u001b[1;31m:\u001b[0m invalid syntax\n"
     ]
    }
   ],
   "source": [
    "git init"
   ]
  },
  {
   "cell_type": "code",
   "execution_count": null,
   "metadata": {},
   "outputs": [],
   "source": []
  }
 ],
 "metadata": {
  "kernelspec": {
   "display_name": "Python 3",
   "language": "python",
   "name": "python3"
  },
  "language_info": {
   "codemirror_mode": {
    "name": "ipython",
    "version": 3
   },
   "file_extension": ".py",
   "mimetype": "text/x-python",
   "name": "python",
   "nbconvert_exporter": "python",
   "pygments_lexer": "ipython3",
   "version": "3.7.4"
  }
 },
 "nbformat": 4,
 "nbformat_minor": 2
}
